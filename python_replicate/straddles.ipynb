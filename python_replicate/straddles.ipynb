{
 "cells": [
  {
   "cell_type": "code",
   "execution_count": 32,
   "metadata": {},
   "outputs": [],
   "source": [
    "import pandas as pd\n",
    "import numpy as np\n",
    "import pyreadr\n",
    "from scipy import stats\n",
    "import statsmodels.api as sm"
   ]
  },
  {
   "cell_type": "code",
   "execution_count": 33,
   "metadata": {},
   "outputs": [],
   "source": [
    "file_path = \"/Users/yaolangzhong/Nottingham_Replication/original_code/\""
   ]
  },
  {
   "cell_type": "code",
   "execution_count": 34,
   "metadata": {},
   "outputs": [],
   "source": [
    "data = pyreadr.read_r(file_path + \"data/straddle_returns_fomc.RData\")['data']\n",
    "# Convert the 'date' column to datetime type and create a new column 'ym'\n",
    "data['date'] = pd.to_datetime(data['date'])\n",
    "data['exp'] = pd.to_datetime(data['exp'])\n",
    "data['ym'] = data['date'].dt.year*100 + data['date'].dt.month\n",
    "# Filter data\n",
    "data = data[(data['date'].dt.year >= 1994) &\n",
    "            ((data['ym'] <= 200706) | (data['ym'] >= 200907))]\n"
   ]
  },
  {
   "cell_type": "code",
   "execution_count": 43,
   "metadata": {},
   "outputs": [],
   "source": [
    "def return_stats(R):\n",
    "    skew = stats.skew(R)\n",
    "    kurt = stats.kurtosis(R)\n",
    "    mod = sm.OLS(R, np.ones(len(R))).fit()\n",
    "    tstat = mod.tvalues[0]\n",
    "    res = pd.Series([f\"{R.mean():4.1f}\",\n",
    "                     round(R.median(), 1),\n",
    "                     round(R.std(), 1),\n",
    "                     round(skew, 1),\n",
    "                     round(kurt, 1),\n",
    "                     round(tstat, 1),\n",
    "                     round(abs(np.sqrt(8) * R.mean()) / R.std(), 1),\n",
    "                     len(R)])\n",
    "    res.index = [\"Mean\", \"Median\", \"SD\", \"Skewness\", \"Kurtosis\", \"t-statistic\", \"Sharpe ratio\", \"Observations\"]\n",
    "    return res\n"
   ]
  },
  {
   "cell_type": "code",
   "execution_count": 44,
   "metadata": {},
   "outputs": [
    {
     "name": "stdout",
     "output_type": "stream",
     "text": [
      "               ED1   ED2   ED3   ED4   ED5   ED6\n",
      "Mean          -9.1  -4.5  -3.0  -2.3  -2.1  -1.6\n",
      "Median        -8.3  -4.2  -2.8  -2.2  -1.7  -1.4\n",
      "SD            11.9   6.1   4.5   4.1   3.7   3.3\n",
      "Skewness      -0.3  -0.6   0.1  -0.5  -3.2  -0.9\n",
      "Kurtosis       2.6   4.6   4.5  16.6  20.7  11.9\n",
      "t-statistic  -10.8 -10.5  -9.1  -7.8  -8.0  -6.8\n",
      "Sharpe ratio   2.2   2.1   1.8   1.6   1.6   1.4\n",
      "Observations   197   197   197   197   197   194\n",
      "               ED1   ED2   ED3   ED4   ED5   ED6\n",
      "Mean          -1.3  -1.3  -1.4  -1.4  -1.4  -1.3\n",
      "Median        -1.0  -1.0  -1.0  -1.0  -1.0  -1.0\n",
      "SD             1.8   1.9   2.2   2.2   2.4   2.4\n",
      "Skewness      -0.8  -0.7  -0.6  -1.1  -1.4  -0.8\n",
      "Kurtosis       3.3   3.8   2.7   3.7   5.1   3.8\n",
      "t-statistic  -10.2 -10.0  -8.6  -8.7  -8.4  -7.9\n",
      "Sharpe ratio   2.1   2.0   1.7   1.7   1.7   1.6\n",
      "Observations   197   197   197   197   197   194\n"
     ]
    }
   ],
   "source": [
    "# Define empty dataframes\n",
    "tbl = pd.DataFrame(np.nan, index=range(8), columns=range(6))\n",
    "tbl.columns = [f\"ED{j}\" for j in range(1, 7)]\n",
    "tbl.index = [\"Mean\", \"Median\", \"SD\", \"Skewness\", \"Kurtosis\", \"t-statistic\", \"Sharpe ratio\", \"Observations\"]\n",
    "\n",
    "tbl2 = tbl.copy()\n",
    "\n",
    "# Loop through the columns\n",
    "for j in range(1, 7):\n",
    "    tmp = data[data['j']==j]\n",
    "    # Relative returns\n",
    "    tbl[f\"ED{j}\"] = return_stats(tmp['Rrel'].dropna())\n",
    "    # Absolute returns\n",
    "    tbl2[f\"ED{j}\"] = return_stats(tmp['Rabs'].dropna())\n",
    "\n",
    "print(tbl)\n",
    "print(tbl2)\n"
   ]
  },
  {
   "cell_type": "code",
   "execution_count": 45,
   "metadata": {},
   "outputs": [],
   "source": [
    "with open(\"output/table_C3.tex\", 'w') as f:\n",
    "    f.write(\"& ED1 & ED2 & ED3 & ED4 & ED5 & ED6 \\\\\\\\ \\n\")\n",
    "    f.write(\"\\\\midrule \\n\")\n",
    "    f.write(\"\\\\multicolumn{6}{l}{\\\\emph{Relative returns}}\\\\\\\\ \\n\")\n",
    "    f.write(tbl.iloc[0:7].to_latex(header=False, column_format='r' * 7))\n",
    "    f.write(\"\\\\midrule \\n\")\n",
    "    f.write(\"\\\\multicolumn{6}{l}{\\\\emph{Absolute returns}}\\\\\\\\ \\n\")\n",
    "    f.write(tbl2.iloc[0:7].to_latex(header=False, column_format='r' * 7))\n",
    "    f.write(\"\\\\midrule \\n\")\n",
    "    f.write(\"Observations \" + \" \".join([f\"& {x}\" for x in tbl.iloc[7]]) + \" \\\\\\\\ \\n\")\n"
   ]
  },
  {
   "cell_type": "code",
   "execution_count": null,
   "metadata": {},
   "outputs": [],
   "source": []
  }
 ],
 "metadata": {
  "kernelspec": {
   "display_name": "econ",
   "language": "python",
   "name": "python3"
  },
  "language_info": {
   "codemirror_mode": {
    "name": "ipython",
    "version": 3
   },
   "file_extension": ".py",
   "mimetype": "text/x-python",
   "name": "python",
   "nbconvert_exporter": "python",
   "pygments_lexer": "ipython3",
   "version": "3.8.13"
  },
  "orig_nbformat": 4
 },
 "nbformat": 4,
 "nbformat_minor": 2
}
